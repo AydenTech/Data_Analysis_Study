{
 "cells": [
  {
   "cell_type": "code",
   "execution_count": 1,
   "id": "4aaf7c28",
   "metadata": {
    "execution": {
     "iopub.execute_input": "2022-06-12T18:05:37.578619Z",
     "iopub.status.busy": "2022-06-12T18:05:37.578104Z",
     "iopub.status.idle": "2022-06-12T18:05:38.626191Z",
     "shell.execute_reply": "2022-06-12T18:05:38.625106Z"
    },
    "papermill": {
     "duration": 1.055146,
     "end_time": "2022-06-12T18:05:38.628841",
     "exception": false,
     "start_time": "2022-06-12T18:05:37.573695",
     "status": "completed"
    },
    "tags": []
   },
   "outputs": [],
   "source": [
    "## import numpy as np\n",
    "import pandas as pd\n",
    "import matplotlib.pyplot as plt\n",
    "import seaborn as sns\n",
    "\n",
    "plt.style.use('seaborn')\n",
    "sns.set(font_scale=2.5) # 이 두줄은 본 필자가 항상 쓰는 방법입니다. matplotlib 의 기본 scheme 말고 seaborn scheme 을 세팅하고, 일일이 graph 의 font size 를 지정할 필요 없이 seaborn 의 font_scale 을 사용하면 편합니다.\n",
    "import missingno as msno\n",
    "\n",
    "#ignore warnings\n",
    "import warnings\n",
    "warnings.filterwarnings('ignore')\n",
    "\n",
    "%matplotlib inline"
   ]
  },
  {
   "cell_type": "code",
   "execution_count": 2,
   "id": "e4b48ac6",
   "metadata": {
    "execution": {
     "iopub.execute_input": "2022-06-12T18:05:38.634230Z",
     "iopub.status.busy": "2022-06-12T18:05:38.633873Z",
     "iopub.status.idle": "2022-06-12T18:05:38.659663Z",
     "shell.execute_reply": "2022-06-12T18:05:38.658721Z"
    },
    "papermill": {
     "duration": 0.031089,
     "end_time": "2022-06-12T18:05:38.662061",
     "exception": false,
     "start_time": "2022-06-12T18:05:38.630972",
     "status": "completed"
    },
    "tags": []
   },
   "outputs": [],
   "source": [
    "df_train = pd.read_csv('../input/titanic/train.csv')\n",
    "df_test = pd.read_csv('../input/titanic/test.csv')"
   ]
  },
  {
   "cell_type": "code",
   "execution_count": null,
   "id": "8485240f",
   "metadata": {
    "execution": {
     "iopub.execute_input": "2022-06-12T18:02:42.896832Z",
     "iopub.status.busy": "2022-06-12T18:02:42.896510Z",
     "iopub.status.idle": "2022-06-12T18:02:42.985640Z",
     "shell.execute_reply": "2022-06-12T18:02:42.984272Z",
     "shell.execute_reply.started": "2022-06-12T18:02:42.896803Z"
    },
    "papermill": {
     "duration": 0.001588,
     "end_time": "2022-06-12T18:05:38.665652",
     "exception": false,
     "start_time": "2022-06-12T18:05:38.664064",
     "status": "completed"
    },
    "tags": []
   },
   "outputs": [],
   "source": []
  }
 ],
 "metadata": {
  "kernelspec": {
   "display_name": "Python 3",
   "language": "python",
   "name": "python3"
  },
  "language_info": {
   "codemirror_mode": {
    "name": "ipython",
    "version": 3
   },
   "file_extension": ".py",
   "mimetype": "text/x-python",
   "name": "python",
   "nbconvert_exporter": "python",
   "pygments_lexer": "ipython3",
   "version": "3.7.12"
  },
  "papermill": {
   "default_parameters": {},
   "duration": 11.634215,
   "end_time": "2022-06-12T18:05:39.389679",
   "environment_variables": {},
   "exception": null,
   "input_path": "__notebook__.ipynb",
   "output_path": "__notebook__.ipynb",
   "parameters": {},
   "start_time": "2022-06-12T18:05:27.755464",
   "version": "2.3.4"
  }
 },
 "nbformat": 4,
 "nbformat_minor": 5
}
